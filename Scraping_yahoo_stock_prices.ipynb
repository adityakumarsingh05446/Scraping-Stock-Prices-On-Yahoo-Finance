{
  "nbformat": 4,
  "nbformat_minor": 0,
  "metadata": {
    "kernelspec": {
      "display_name": "Python 3 (ipykernel)",
      "language": "python",
      "name": "python3"
    },
    "language_info": {
      "codemirror_mode": {
        "name": "ipython",
        "version": 3
      },
      "file_extension": ".py",
      "mimetype": "text/x-python",
      "name": "python",
      "nbconvert_exporter": "python",
      "pygments_lexer": "ipython3",
      "version": "3.9.6"
    },
    "colab": {
      "name": "Scraping-yahoo-stock-prices.ipynb",
      "provenance": []
    }
  },
  "cells": [
    {
      "cell_type": "markdown",
      "metadata": {
        "id": "8sVd5jPHXzVm"
      },
      "source": [
        "# Scraping Stock Prices on Yahoo Finance\n",
        "\n",
        "Use the \"Run\" button to execute the code."
      ]
    },
    {
      "cell_type": "markdown",
      "metadata": {
        "id": "XWP4LBhTXzVp"
      },
      "source": [
        "<img src=\"https://i.imgur.com/JlzyGl6.jpeg\" style=\"width: 800px;\" align=\"center\"/>\n",
        "\n",
        "### <font color=green>Introduction\n",
        "\n",
        "The Yahoo finance website is a source of financial information for users all over the world. In this project, web-scraping of the finance section on Yahoo was attempted.\n"
      ]
    },
    {
      "cell_type": "markdown",
      "metadata": {
        "id": "7QEfDX2vXzVq"
      },
      "source": [
        "The code written in this project draws information from a select group of categories of Markets, which can be found inside the 'Markets' header of the as shown below:\n",
        "\n",
        "<img src=\"https://i.imgur.com/xH9XyZk.jpeg\" style=\"width: 800px;\" align=\"center\" />\n"
      ]
    },
    {
      "cell_type": "markdown",
      "metadata": {
        "id": "99DdqSclXzVr"
      },
      "source": [
        "When the Trending Tickers page is opened, the tickers look like this:\n",
        "<img src=\"https://i.imgur.com/OK4DXUx.png\" style=\"width: 800px;\" align=\"center\" />\n"
      ]
    },
    {
      "cell_type": "markdown",
      "metadata": {
        "id": "nM2t_CZ6XzVr"
      },
      "source": [
        "The goal of this project was to scrape the following stock ticker information for each of the tickers:\n",
        "\n",
        "* Name\n",
        "* Symbol\n",
        "* Price\n",
        "* URL"
      ]
    },
    {
      "cell_type": "markdown",
      "metadata": {
        "id": "RmC2-TWfXzVs"
      },
      "source": [
        "### <font color=green>Requests and BeautifulSoup\n",
        "\n",
        "First, the required packages are installed and imported. For this project, we will need the requests library to query a website and save the response as a response object.\n",
        "\n",
        "Then, we install the bs4 package which contains BeautifulSoup library, which is a popular python library for reading and parsing HTML data. "
      ]
    },
    {
      "cell_type": "code",
      "metadata": {
        "id": "hkclbWw9XzVs"
      },
      "source": [
        "!pip install requests --upgrade --quiet\n",
        "import requests\n",
        "\n",
        "!pip install bs4 --upgrade --quiet\n",
        "from bs4 import BeautifulSoup"
      ],
      "execution_count": 72,
      "outputs": []
    },
    {
      "cell_type": "markdown",
      "metadata": {
        "id": "fkGG_S-oXzVt"
      },
      "source": [
        "### <font color=green>Defining the base_url\n",
        "\n",
        "The website home page (https://www.finance.yahoo.com) is assigned to a variable 'base_url' so that the specific market paths which will be extracted from the html code can be appended to it. "
      ]
    },
    {
      "cell_type": "code",
      "metadata": {
        "id": "q9zHRgnSXzVu"
      },
      "source": [
        "base_url = 'https://www.finance.yahoo.com'"
      ],
      "execution_count": 73,
      "outputs": []
    },
    {
      "cell_type": "markdown",
      "metadata": {
        "id": "rkQgsPETXzVu"
      },
      "source": [
        "### <font color=brown>Function No. 1: get_market_page\n",
        "\n",
        "* A function called 'get_market_page' is defined, which takes a market category as string input and generates a beautifulsoup document as output. \n",
        "***\n",
        "* A couple of market URLS (top-trending and cryptocurrencies) were checked and it was found that the market URLs had the market names appended to the base URL - https://finance.yahoo.com. The outputs were checked and were verified.\n",
        "\n",
        "    Cryptocurrencies URL  found to be https://finance.yahoo.com/cryptocurrencies;\n",
        "\n",
        "    Trending-tickers URL was found to be https://finance.yahoo.com/trending-tickers;\n",
        "\n",
        "    Top ETFs URL was found to be https://finance.yahoo.com/etfs;\n",
        "\n",
        "    ...and so on.\n",
        "***\n",
        "\n",
        "* The local variable 'response' is assigned to the response obtained when the market URL is passed to the requests.get function. \n",
        "***\n",
        "* A valid response has a response code of 200. If not, an exception is raised stating - the response is invalid. \n",
        "***\n",
        "* The response is fed to the beautiful soup function and a beautifulsoup document for that specific market is returned."
      ]
    },
    {
      "cell_type": "code",
      "metadata": {
        "id": "QO8EIIK0XzVv"
      },
      "source": [
        "def get_market_page(market):\n",
        "    market_tickers_url = 'https://www.finance.yahoo.com/'+market\n",
        "    response = requests.get(market_tickers_url)\n",
        "    if response.status_code != 200:\n",
        "        print('Status code: ', response.status_code)\n",
        "        raise Exception('Failed to fetch web page '+ market_tickers_url)\n",
        "    doc = BeautifulSoup(response.text)\n",
        "    return doc"
      ],
      "execution_count": 74,
      "outputs": []
    },
    {
      "cell_type": "code",
      "metadata": {
        "id": "CVFM8aCwXzVw"
      },
      "source": [
        "# when the cryptocurrencies market category is queried:\n",
        "crypto_doc = get_market_page('cryptocurrencies')"
      ],
      "execution_count": 75,
      "outputs": []
    },
    {
      "cell_type": "markdown",
      "metadata": {
        "id": "3V8zFPOGXzVx"
      },
      "source": [
        "The title of the webpage can be parsed from the BeautifulSoup document generated from the cryptocurrencies page, by calling .title.text to the document name"
      ]
    },
    {
      "cell_type": "code",
      "metadata": {
        "colab": {
          "base_uri": "https://localhost:8080/",
          "height": 35
        },
        "id": "mrk2mwrVXzVx",
        "outputId": "5e3d8616-7382-4fae-c239-93105a41f118"
      },
      "source": [
        "crypto_doc.title.text"
      ],
      "execution_count": 76,
      "outputs": [
        {
          "output_type": "execute_result",
          "data": {
            "application/vnd.google.colaboratory.intrinsic+json": {
              "type": "string"
            },
            "text/plain": [
              "'All Cryptocurrencies Screener - Yahoo Finance'"
            ]
          },
          "metadata": {},
          "execution_count": 76
        }
      ]
    },
    {
      "cell_type": "markdown",
      "metadata": {
        "id": "AvIS6q4vXzVy"
      },
      "source": [
        "The trending tickers market of Yahoo Finance website is also queried and a document is generated. The title is then checked to make sure that the function above works for all applicable markets on the yahoo finance website."
      ]
    },
    {
      "cell_type": "code",
      "metadata": {
        "colab": {
          "base_uri": "https://localhost:8080/",
          "height": 35
        },
        "id": "1Zwdj3SPXzVz",
        "outputId": "9bc0a5c5-748f-4f25-868c-ebd4a7d23dbe"
      },
      "source": [
        "# Another example \n",
        "market_doc = get_market_page('trending-tickers')\n",
        "market_doc.title.text"
      ],
      "execution_count": 77,
      "outputs": [
        {
          "output_type": "execute_result",
          "data": {
            "application/vnd.google.colaboratory.intrinsic+json": {
              "type": "string"
            },
            "text/plain": [
              "'Trending Stocks Today - Yahoo Finance'"
            ]
          },
          "metadata": {},
          "execution_count": 77
        }
      ]
    },
    {
      "cell_type": "markdown",
      "metadata": {
        "id": "f-jCkweRXzV0"
      },
      "source": [
        "### <font color=green>Inspecting the HTML code of a market website on Yahoo Finance\n",
        "\n",
        "Upon inspection of the html code of the Yahoo Finance webpage, it was found that there are 'tr' tags with the class \"simpTb1Row...\" for each of the market categories.\n",
        "\n",
        "<img src=\"https://i.imgur.com/qhjhWsn.jpeg\" style=\"width: 900px;\" align=\"center\" />"
      ]
    },
    {
      "cell_type": "code",
      "metadata": {
        "id": "3CVZKYeFXzV1"
      },
      "source": [
        "#to look at all the 'tr' tags and assign a variable to it: 'ticker_tags'\n",
        "ticker_tags = market_doc.find_all('tr', class_=\"simpTblRow\")"
      ],
      "execution_count": 78,
      "outputs": []
    },
    {
      "cell_type": "code",
      "metadata": {
        "colab": {
          "base_uri": "https://localhost:8080/"
        },
        "id": "ewgnC2FuXzV2",
        "outputId": "3fee0368-d811-41e1-bda3-4639a5975a21"
      },
      "source": [
        "# It was found that there are thirty tickers in the 'top-trending' tickers list.\n",
        "len(ticker_tags)"
      ],
      "execution_count": 79,
      "outputs": [
        {
          "output_type": "execute_result",
          "data": {
            "text/plain": [
              "30"
            ]
          },
          "metadata": {},
          "execution_count": 79
        }
      ]
    },
    {
      "cell_type": "code",
      "metadata": {
        "colab": {
          "base_uri": "https://localhost:8080/"
        },
        "id": "Jo8oaauHXzV4",
        "outputId": "ba4715d4-15de-45df-8ea9-b35152dada17"
      },
      "source": [
        "#Inspect the first ticker tag and assigning it to a variable: ticker_tag\n",
        "ticker_tag = ticker_tags[0]\n",
        "ticker_tag"
      ],
      "execution_count": 80,
      "outputs": [
        {
          "output_type": "execute_result",
          "data": {
            "text/plain": [
              "<tr class=\"simpTblRow Bgc($hoverBgColor):h BdB Bdbc($seperatorColor) Bdbc($tableBorderBlue):h H(32px) Bgc($lv2BgColor) \" data-reactid=\"41\"><td aria-label=\"Symbol\" class=\"Va(m) Ta(start) Pstart(6px) Pend(15px) Start(0) Pend(10px) simpTblRow:h_Bgc($hoverBgColor) Pos(st) Bgc($lv3BgColor) Bgc($lv2BgColor) Ta(start)! Fz(s)\" colspan=\"\" data-reactid=\"42\"><a class=\"Fw(600) C($linkColor)\" data-reactid=\"43\" data-test=\"quoteLink\" href=\"/quote/BTC-USD?p=BTC-USD\" title=\"Bitcoin USD\">BTC-USD</a><div class=\"W(3px) Pos(a) Start(100%) T(0) H(100%) Bg($pfColumnFakeShadowGradient) Pe(n) Pend(5px)\" data-reactid=\"44\"></div></td><td aria-label=\"Name\" class=\"Va(m) Ta(start) Px(10px) Miw(180px) Fz(s)\" colspan=\"\" data-reactid=\"45\"><!-- react-text: 46 -->Bitcoin USD<!-- /react-text --></td><td aria-label=\"Last Price\" class=\"Va(m) Ta(end) Pstart(20px) Fw(600) Fz(s)\" colspan=\"\" data-reactid=\"47\"><span class=\"Trsdu(0.3s) \" data-reactid=\"48\">48,643.65</span></td><td aria-label=\"Market Time\" class=\"Va(m) Ta(end) Pstart(20px) Miw(90px) Fz(s)\" colspan=\"\" data-reactid=\"49\"><span class=\"Trsdu(0.3s) \" data-reactid=\"50\">12:02PM BST</span></td><td aria-label=\"Change\" class=\"Va(m) Ta(end) Pstart(20px) Fw(600) Fz(s)\" colspan=\"\" data-reactid=\"51\"><span class=\"Trsdu(0.3s) Fw(600) C($positiveColor)\" data-reactid=\"52\">+1,187.59</span></td><td aria-label=\"% Change\" class=\"Va(m) Ta(end) Pstart(20px) Fw(600) Fz(s)\" colspan=\"\" data-reactid=\"53\"><span class=\"Trsdu(0.3s) Fw(600) C($positiveColor)\" data-reactid=\"54\">+2.50%</span></td><td aria-label=\"Volume\" class=\"Va(m) Ta(end) Pstart(20px) Fz(s)\" colspan=\"\" data-reactid=\"55\"><span class=\"Trsdu(0.3s) \" data-reactid=\"56\">28.994B</span></td><td aria-label=\"Market Cap\" class=\"Va(m) Ta(end) Pstart(20px) Fz(s)\" colspan=\"\" data-reactid=\"57\"><span class=\"Trsdu(0.3s) \" data-reactid=\"58\">915.435B</span></td><td aria-label=\"Intraday High/Low\" class=\"Va(m) Ta(end) Pstart(20px) Fz(s)\" colspan=\"\" data-reactid=\"59\"><canvas data-reactid=\"60\" style=\"width:140px;height:23px;\"></canvas></td><td aria-label=\"52 Week Range\" class=\"Va(m) Ta(start) Pstart(20px) Pend(10px) W(120px) Fz(s)\" colspan=\"\" data-reactid=\"61\"><canvas data-reactid=\"62\" style=\"width:140px;height:23px;\"></canvas></td><td aria-label=\"Day Chart\" class=\"Va(m) Ta(start) Pstart(20px) Pend(10px) W(120px) Fz(s)\" colspan=\"\" data-reactid=\"63\"><a aria-label=\"Go to BTC-USD Chart\" class=\"C($linkColor)\" data-reactid=\"64\" data-symbol=\"BTC-USD\" href=\"/chart/BTC-USD?p=BTC-USD\" rel=\"noopener noreferrer\" target=\"_blank\"><canvas data-reactid=\"65\" style=\"width:70px;height:25px;\"></canvas></a></td></tr>"
            ]
          },
          "metadata": {},
          "execution_count": 80
        }
      ]
    },
    {
      "cell_type": "markdown",
      "metadata": {
        "id": "7S8SvbK2XzV5"
      },
      "source": [
        "When the 'tr' tags are inspected, we find that each 'tr' tag has a list of 'td' tags in them:\n",
        "\n",
        "<img src=\"https://i.imgur.com/ZzASKhi.jpeg\" style=\"width: 600px;\" align=\"center\" />\n",
        "\n",
        "\n"
      ]
    },
    {
      "cell_type": "code",
      "metadata": {
        "colab": {
          "base_uri": "https://localhost:8080/"
        },
        "id": "T8Na-FxBXzV6",
        "outputId": "bce0a791-398d-4fbe-cffd-32df88b0b641"
      },
      "source": [
        "#to look at all 'td' tags in a 'tr' tag\n",
        "td_tags = ticker_tag.find_all('td')\n",
        "td_tags"
      ],
      "execution_count": 81,
      "outputs": [
        {
          "output_type": "execute_result",
          "data": {
            "text/plain": [
              "[<td aria-label=\"Symbol\" class=\"Va(m) Ta(start) Pstart(6px) Pend(15px) Start(0) Pend(10px) simpTblRow:h_Bgc($hoverBgColor) Pos(st) Bgc($lv3BgColor) Bgc($lv2BgColor) Ta(start)! Fz(s)\" colspan=\"\" data-reactid=\"42\"><a class=\"Fw(600) C($linkColor)\" data-reactid=\"43\" data-test=\"quoteLink\" href=\"/quote/BTC-USD?p=BTC-USD\" title=\"Bitcoin USD\">BTC-USD</a><div class=\"W(3px) Pos(a) Start(100%) T(0) H(100%) Bg($pfColumnFakeShadowGradient) Pe(n) Pend(5px)\" data-reactid=\"44\"></div></td>,\n",
              " <td aria-label=\"Name\" class=\"Va(m) Ta(start) Px(10px) Miw(180px) Fz(s)\" colspan=\"\" data-reactid=\"45\"><!-- react-text: 46 -->Bitcoin USD<!-- /react-text --></td>,\n",
              " <td aria-label=\"Last Price\" class=\"Va(m) Ta(end) Pstart(20px) Fw(600) Fz(s)\" colspan=\"\" data-reactid=\"47\"><span class=\"Trsdu(0.3s) \" data-reactid=\"48\">48,643.65</span></td>,\n",
              " <td aria-label=\"Market Time\" class=\"Va(m) Ta(end) Pstart(20px) Miw(90px) Fz(s)\" colspan=\"\" data-reactid=\"49\"><span class=\"Trsdu(0.3s) \" data-reactid=\"50\">12:02PM BST</span></td>,\n",
              " <td aria-label=\"Change\" class=\"Va(m) Ta(end) Pstart(20px) Fw(600) Fz(s)\" colspan=\"\" data-reactid=\"51\"><span class=\"Trsdu(0.3s) Fw(600) C($positiveColor)\" data-reactid=\"52\">+1,187.59</span></td>,\n",
              " <td aria-label=\"% Change\" class=\"Va(m) Ta(end) Pstart(20px) Fw(600) Fz(s)\" colspan=\"\" data-reactid=\"53\"><span class=\"Trsdu(0.3s) Fw(600) C($positiveColor)\" data-reactid=\"54\">+2.50%</span></td>,\n",
              " <td aria-label=\"Volume\" class=\"Va(m) Ta(end) Pstart(20px) Fz(s)\" colspan=\"\" data-reactid=\"55\"><span class=\"Trsdu(0.3s) \" data-reactid=\"56\">28.994B</span></td>,\n",
              " <td aria-label=\"Market Cap\" class=\"Va(m) Ta(end) Pstart(20px) Fz(s)\" colspan=\"\" data-reactid=\"57\"><span class=\"Trsdu(0.3s) \" data-reactid=\"58\">915.435B</span></td>,\n",
              " <td aria-label=\"Intraday High/Low\" class=\"Va(m) Ta(end) Pstart(20px) Fz(s)\" colspan=\"\" data-reactid=\"59\"><canvas data-reactid=\"60\" style=\"width:140px;height:23px;\"></canvas></td>,\n",
              " <td aria-label=\"52 Week Range\" class=\"Va(m) Ta(start) Pstart(20px) Pend(10px) W(120px) Fz(s)\" colspan=\"\" data-reactid=\"61\"><canvas data-reactid=\"62\" style=\"width:140px;height:23px;\"></canvas></td>,\n",
              " <td aria-label=\"Day Chart\" class=\"Va(m) Ta(start) Pstart(20px) Pend(10px) W(120px) Fz(s)\" colspan=\"\" data-reactid=\"63\"><a aria-label=\"Go to BTC-USD Chart\" class=\"C($linkColor)\" data-reactid=\"64\" data-symbol=\"BTC-USD\" href=\"/chart/BTC-USD?p=BTC-USD\" rel=\"noopener noreferrer\" target=\"_blank\"><canvas data-reactid=\"65\" style=\"width:70px;height:25px;\"></canvas></a></td>]"
            ]
          },
          "metadata": {},
          "execution_count": 81
        }
      ]
    },
    {
      "cell_type": "markdown",
      "metadata": {
        "id": "uvxp53IkXzV7"
      },
      "source": [
        "It was also found - by hovering on each 'td' tag - that they represent each of the items in the ticker row on the website:\n",
        "\n",
        "<img src=\"https://i.imgur.com/UpdTOlz.jpeg\" style=\"width: 900px;\" align=\"center\" />\n"
      ]
    },
    {
      "cell_type": "markdown",
      "metadata": {
        "id": "9kMPsnxyXzV8"
      },
      "source": [
        "When the td tags are expanded, we can find the information we are looking for - ticker name, ticker symbol, ticker price and ticker path (which needs to be appended to the base-URL) to lead to the correct URL. "
      ]
    },
    {
      "cell_type": "markdown",
      "metadata": {
        "id": "ar2JCywyXzV9"
      },
      "source": [
        "### <font color=green>Parsing the required information for each ticker:\n",
        "\n",
        "Once the required information is located inside each of the 'td' tags, these are the findings:\n",
        "* Ticker symbol is in the first 'td' tag\n",
        "* Ticker name is in the second 'td' tag\n",
        "* Ticker price is in the third 'td' tag\n",
        "* Ticker path is located inside the 'a' tag in the first 'td' tag ('a' tags usually contain links)\n",
        "\n",
        " \n",
        "\n",
        "Ticker path location:\n",
        "\n",
        "<img src=\"https://i.imgur.com/jcPdycA.jpg\" style=\"width: 900px;\" align=\"center\" />\n",
        "    \n",
        "    "
      ]
    },
    {
      "cell_type": "code",
      "metadata": {
        "colab": {
          "base_uri": "https://localhost:8080/",
          "height": 35
        },
        "id": "bp_ytdeeXzV9",
        "outputId": "58b9b227-34a1-4a4f-f289-c6b20d24984f"
      },
      "source": [
        "ticker_symbol = td_tags[0].text\n",
        "ticker_symbol"
      ],
      "execution_count": 82,
      "outputs": [
        {
          "output_type": "execute_result",
          "data": {
            "application/vnd.google.colaboratory.intrinsic+json": {
              "type": "string"
            },
            "text/plain": [
              "'BTC-USD'"
            ]
          },
          "metadata": {},
          "execution_count": 82
        }
      ]
    },
    {
      "cell_type": "code",
      "metadata": {
        "colab": {
          "base_uri": "https://localhost:8080/",
          "height": 35
        },
        "id": "FIQMb1_ZXzV-",
        "outputId": "963855be-6a9e-4f97-c3bf-0d0c3895b580"
      },
      "source": [
        "ticker_name = td_tags[1].text\n",
        "ticker_name"
      ],
      "execution_count": 83,
      "outputs": [
        {
          "output_type": "execute_result",
          "data": {
            "application/vnd.google.colaboratory.intrinsic+json": {
              "type": "string"
            },
            "text/plain": [
              "'Bitcoin USD'"
            ]
          },
          "metadata": {},
          "execution_count": 83
        }
      ]
    },
    {
      "cell_type": "code",
      "metadata": {
        "colab": {
          "base_uri": "https://localhost:8080/",
          "height": 35
        },
        "id": "O4cpdxtYXzV_",
        "outputId": "0e5de8eb-d1b3-4262-ab71-b806585f2a58"
      },
      "source": [
        "ticker_price_text = td_tags[2].text\n",
        "ticker_price = ticker_price_text.replace(',','')\n",
        "ticker_price"
      ],
      "execution_count": 84,
      "outputs": [
        {
          "output_type": "execute_result",
          "data": {
            "application/vnd.google.colaboratory.intrinsic+json": {
              "type": "string"
            },
            "text/plain": [
              "'48643.65'"
            ]
          },
          "metadata": {},
          "execution_count": 84
        }
      ]
    },
    {
      "cell_type": "code",
      "metadata": {
        "id": "FT0bQXq1XzV_"
      },
      "source": [
        "a_tags = ticker_tag.find_all('a')"
      ],
      "execution_count": 85,
      "outputs": []
    },
    {
      "cell_type": "code",
      "metadata": {
        "colab": {
          "base_uri": "https://localhost:8080/"
        },
        "id": "uPC0acZ3XzV_",
        "outputId": "71561a97-5e1b-434f-a565-be21f1225e8d"
      },
      "source": [
        "a_tags"
      ],
      "execution_count": 86,
      "outputs": [
        {
          "output_type": "execute_result",
          "data": {
            "text/plain": [
              "[<a class=\"Fw(600) C($linkColor)\" data-reactid=\"43\" data-test=\"quoteLink\" href=\"/quote/BTC-USD?p=BTC-USD\" title=\"Bitcoin USD\">BTC-USD</a>,\n",
              " <a aria-label=\"Go to BTC-USD Chart\" class=\"C($linkColor)\" data-reactid=\"64\" data-symbol=\"BTC-USD\" href=\"/chart/BTC-USD?p=BTC-USD\" rel=\"noopener noreferrer\" target=\"_blank\"><canvas data-reactid=\"65\" style=\"width:70px;height:25px;\"></canvas></a>]"
            ]
          },
          "metadata": {},
          "execution_count": 86
        }
      ]
    },
    {
      "cell_type": "code",
      "metadata": {
        "id": "otawgLRtXzWA"
      },
      "source": [
        "ticker_path = a_tags[0]['href']"
      ],
      "execution_count": 87,
      "outputs": []
    },
    {
      "cell_type": "code",
      "metadata": {
        "colab": {
          "base_uri": "https://localhost:8080/",
          "height": 35
        },
        "id": "e4PMI3X6XzWB",
        "outputId": "bffa62fb-323a-49a4-a75a-605261de48b5"
      },
      "source": [
        "ticker_path"
      ],
      "execution_count": 88,
      "outputs": [
        {
          "output_type": "execute_result",
          "data": {
            "application/vnd.google.colaboratory.intrinsic+json": {
              "type": "string"
            },
            "text/plain": [
              "'/quote/BTC-USD?p=BTC-USD'"
            ]
          },
          "metadata": {},
          "execution_count": 88
        }
      ]
    },
    {
      "cell_type": "code",
      "metadata": {
        "id": "FDXAtGh2XzWB"
      },
      "source": [
        "ticker_url = base_url+ticker_path"
      ],
      "execution_count": 89,
      "outputs": []
    },
    {
      "cell_type": "code",
      "metadata": {
        "colab": {
          "base_uri": "https://localhost:8080/",
          "height": 35
        },
        "id": "8hoO718gXzWC",
        "outputId": "aa525543-700a-44c6-9686-172f1196f75f"
      },
      "source": [
        "ticker_url"
      ],
      "execution_count": 90,
      "outputs": [
        {
          "output_type": "execute_result",
          "data": {
            "application/vnd.google.colaboratory.intrinsic+json": {
              "type": "string"
            },
            "text/plain": [
              "'https://www.finance.yahoo.com/quote/BTC-USD?p=BTC-USD'"
            ]
          },
          "metadata": {},
          "execution_count": 90
        }
      ]
    },
    {
      "cell_type": "code",
      "metadata": {
        "colab": {
          "base_uri": "https://localhost:8080/"
        },
        "id": "iv6HW3CnXzWC",
        "outputId": "d88f6ca2-9d07-42c7-b219-13cc18fdac18"
      },
      "source": [
        "print('Ticker name: ', ticker_name)\n",
        "print('Ticker symbol: ', ticker_symbol)\n",
        "print('Ticker price: ', ticker_price)\n",
        "print('Ticker URL', ticker_url)"
      ],
      "execution_count": 91,
      "outputs": [
        {
          "output_type": "stream",
          "name": "stdout",
          "text": [
            "Ticker name:  Bitcoin USD\n",
            "Ticker symbol:  BTC-USD\n",
            "Ticker price:  48643.65\n",
            "Ticker URL https://www.finance.yahoo.com/quote/BTC-USD?p=BTC-USD\n"
          ]
        }
      ]
    },
    {
      "cell_type": "markdown",
      "metadata": {
        "id": "G8FMaYpTXzWD"
      },
      "source": [
        "### <font color=brown>Function No. 2: parse_ticker\n",
        "\n",
        "* Next, we define a function 'parse_ticker', which takes the 'tr' tag (ticker_tag) as an input. \n",
        "***\n",
        "Inside this function, we define the following local variables:\n",
        "* ticker_name: This is the name of the ticker and is obtained when the second td_tag is passed with the text attribute.\n",
        "\n",
        "* ticker_symbol: This is symbol of the ticker and is obtained when the second td_tag is passed with the text attribute.\n",
        "\n",
        "* ticker_price: This is the price of each unit of the ticker and is obtained when the second td_tag is passed with the text attribute.\n",
        "\n",
        "* ticker_URL: This is the URL for the ticker on Yahoo Finance. It is obtained by appending the ticker_path to the base_url\n",
        "\n",
        "* The output that is generated is a dictionary containing key-value pairs, where the keys are 'Ticker name', 'Ticker symbol', 'Ticker price' and 'Ticker URL' and the values are their respective local variables mentioned in the text above. \n",
        "\n",
        "Putting the code for scraping all the ticker informtation together, a function 'parse_ticker' can be defined as follows:"
      ]
    },
    {
      "cell_type": "code",
      "metadata": {
        "id": "lF0iETVkXzWE"
      },
      "source": [
        "def parse_ticker(ticker_tag):\n",
        "    td_tags = ticker_tag.find_all('td')\n",
        "    ticker_name = td_tags[1].text.replace(',','')\n",
        "    ticker_symbol = td_tags[0].text\n",
        "    ticker_price = (td_tags[2].text.replace(',',''))\n",
        "    a_tags = ticker_tag.find_all('a')\n",
        "    ticker_path = a_tags[0]['href']\n",
        "    ticker_url = base_url+ticker_path\n",
        "    return {\n",
        "        'Ticker name ': ticker_name,\n",
        "        'Ticker symbol ': ticker_symbol,\n",
        "        'Ticker price ': ticker_price,\n",
        "        'Ticker URL': ticker_url\n",
        "    }"
      ],
      "execution_count": 92,
      "outputs": []
    },
    {
      "cell_type": "code",
      "metadata": {
        "colab": {
          "base_uri": "https://localhost:8080/"
        },
        "id": "aRTDKVjgXzWE",
        "outputId": "b3a53176-6b54-4953-de4c-08ae0b15f7a0"
      },
      "source": [
        "parse_ticker(ticker_tags[1])"
      ],
      "execution_count": 93,
      "outputs": [
        {
          "output_type": "execute_result",
          "data": {
            "text/plain": [
              "{'Ticker URL': 'https://www.finance.yahoo.com/quote/%5EGSPC?p=%5EGSPC',\n",
              " 'Ticker name ': 'S&P 500',\n",
              " 'Ticker price ': '4432.99',\n",
              " 'Ticker symbol ': '^GSPC'}"
            ]
          },
          "metadata": {},
          "execution_count": 93
        }
      ]
    },
    {
      "cell_type": "markdown",
      "metadata": {
        "id": "drJTRX7IXzWF"
      },
      "source": [
        "For iterating all tickers in a particular category, we can try the following code:"
      ]
    },
    {
      "cell_type": "code",
      "metadata": {
        "id": "1yyZXx51XzWF"
      },
      "source": [
        "top_tickers = [parse_ticker(tag) for tag in ticker_tags]"
      ],
      "execution_count": 94,
      "outputs": []
    },
    {
      "cell_type": "code",
      "metadata": {
        "colab": {
          "base_uri": "https://localhost:8080/"
        },
        "id": "vjFfrxCvXzWF",
        "outputId": "aa3ff2a0-46d3-4128-afeb-b99d2ca5f434"
      },
      "source": [
        "#top_tickers\n",
        "len(top_tickers)"
      ],
      "execution_count": 95,
      "outputs": [
        {
          "output_type": "execute_result",
          "data": {
            "text/plain": [
              "30"
            ]
          },
          "metadata": {},
          "execution_count": 95
        }
      ]
    },
    {
      "cell_type": "code",
      "metadata": {
        "colab": {
          "base_uri": "https://localhost:8080/"
        },
        "id": "6K0ak4Z1XzWG",
        "outputId": "3a7a319b-fe62-44b0-dd84-fb7726926e9b"
      },
      "source": [
        "#check the top 10 \n",
        "top_tickers[:10]"
      ],
      "execution_count": 96,
      "outputs": [
        {
          "output_type": "execute_result",
          "data": {
            "text/plain": [
              "[{'Ticker URL': 'https://www.finance.yahoo.com/quote/BTC-USD?p=BTC-USD',\n",
              "  'Ticker name ': 'Bitcoin USD',\n",
              "  'Ticker price ': '48643.65',\n",
              "  'Ticker symbol ': 'BTC-USD'},\n",
              " {'Ticker URL': 'https://www.finance.yahoo.com/quote/%5EGSPC?p=%5EGSPC',\n",
              "  'Ticker name ': 'S&P 500',\n",
              "  'Ticker price ': '4432.99',\n",
              "  'Ticker symbol ': '^GSPC'},\n",
              " {'Ticker URL': 'https://www.finance.yahoo.com/quote/ETH-USD?p=ETH-USD',\n",
              "  'Ticker name ': 'Ethereum USD',\n",
              "  'Ticker price ': '3532.81',\n",
              "  'Ticker symbol ': 'ETH-USD'},\n",
              " {'Ticker URL': 'https://www.finance.yahoo.com/quote/%5EIXIC?p=%5EIXIC',\n",
              "  'Ticker name ': 'Nasdaq',\n",
              "  'Ticker price ': '15043.97',\n",
              "  'Ticker symbol ': '^IXIC'},\n",
              " {'Ticker URL': 'https://www.finance.yahoo.com/quote/DNA?p=DNA',\n",
              "  'Ticker name ': '5885041',\n",
              "  'Ticker price ': '12.18',\n",
              "  'Ticker symbol ': 'DNA'},\n",
              " {'Ticker URL': 'https://www.finance.yahoo.com/quote/ADA-USD?p=ADA-USD',\n",
              "  'Ticker name ': 'Cardano USD',\n",
              "  'Ticker price ': '2.4161',\n",
              "  'Ticker symbol ': 'ADA-USD'},\n",
              " {'Ticker URL': 'https://www.finance.yahoo.com/quote/%5EDJI?p=%5EDJI',\n",
              "  'Ticker name ': 'Dow 30',\n",
              "  'Ticker price ': '34584.88',\n",
              "  'Ticker symbol ': '^DJI'},\n",
              " {'Ticker URL': 'https://www.finance.yahoo.com/quote/XRP-USD?p=XRP-USD',\n",
              "  'Ticker name ': 'XRP USD',\n",
              "  'Ticker price ': '1.0865',\n",
              "  'Ticker symbol ': 'XRP-USD'},\n",
              " {'Ticker URL': 'https://www.finance.yahoo.com/quote/SOL1-USD?p=SOL1-USD',\n",
              "  'Ticker name ': 'Solana USD',\n",
              "  'Ticker price ': '161.41',\n",
              "  'Ticker symbol ': 'SOL1-USD'},\n",
              " {'Ticker URL': 'https://www.finance.yahoo.com/quote/CRVS?p=CRVS',\n",
              "  'Ticker name ': 'Corvus Pharmaceuticals Inc.',\n",
              "  'Ticker price ': '5.32',\n",
              "  'Ticker symbol ': 'CRVS'}]"
            ]
          },
          "metadata": {},
          "execution_count": 96
        }
      ]
    },
    {
      "cell_type": "markdown",
      "metadata": {
        "id": "sdFo3_8mXzWH"
      },
      "source": [
        "### <font color=brown>Function No. 3: get_top_tickers\n",
        "* A function get_top_tickers is written that can take in a beautifulsoup doc for any of the market categories, and parse the ticker information for it.\n",
        "***\n",
        "* The local variable 'ticker_tags' is defined which takes all the 'tr' tags in the html code, with class \"simpTblRow\". \n",
        "***\n",
        "* We already found that each ticker row on the webpage is represented by a single 'tr' tag. So it is expected that the local variable 'ticker_tags' contains information on all the ticker rows visible on the page. \n",
        "***\n",
        "* Then, we extract information for each row by iterating over each of the 'tr' tags and parsing each of those 'tr' tags with the parse_ticker function as defined in Function No. 1. The result is a dictionary of key-value pairs and is assigned to a local variable - market_tickers, which is returned"
      ]
    },
    {
      "cell_type": "code",
      "metadata": {
        "id": "2osrU8d3XzWH"
      },
      "source": [
        "def get_top_tickers(doc):\n",
        "    ticker_tags = doc.find_all('tr', class_=\"simpTblRow\")\n",
        "    market_tickers = [parse_ticker(tag) for tag in ticker_tags]\n",
        "    return market_tickers"
      ],
      "execution_count": 97,
      "outputs": []
    },
    {
      "cell_type": "code",
      "metadata": {
        "colab": {
          "base_uri": "https://localhost:8080/"
        },
        "id": "wOknLk6tXzWI",
        "outputId": "025a5ec7-6cbc-42ea-f8b2-fab58bb3c35c"
      },
      "source": [
        "# testing out the 'cryptocurrencies' market page on Yahoo Finance and assigning the output to crypto_test_tickers\n",
        "crypto_page = get_market_page('cryptocurrencies')\n",
        "crypto_test_tickers = get_top_tickers(crypto_page)\n",
        "crypto_test_tickers[:5]"
      ],
      "execution_count": 98,
      "outputs": [
        {
          "output_type": "execute_result",
          "data": {
            "text/plain": [
              "[{'Ticker URL': 'https://www.finance.yahoo.com/quote/BTC-USD?p=BTC-USD',\n",
              "  'Ticker name ': 'Bitcoin USD',\n",
              "  'Ticker price ': '48650.23',\n",
              "  'Ticker symbol ': 'BTC-USD'},\n",
              " {'Ticker URL': 'https://www.finance.yahoo.com/quote/ETH-USD?p=ETH-USD',\n",
              "  'Ticker name ': 'Ethereum USD',\n",
              "  'Ticker price ': '3533.52',\n",
              "  'Ticker symbol ': 'ETH-USD'},\n",
              " {'Ticker URL': 'https://www.finance.yahoo.com/quote/ADA-USD?p=ADA-USD',\n",
              "  'Ticker name ': 'Cardano USD',\n",
              "  'Ticker price ': '2.4213',\n",
              "  'Ticker symbol ': 'ADA-USD'},\n",
              " {'Ticker URL': 'https://www.finance.yahoo.com/quote/HEX-USD?p=HEX-USD',\n",
              "  'Ticker name ': 'HEX USD',\n",
              "  'Ticker price ': '0.447696',\n",
              "  'Ticker symbol ': 'HEX-USD'},\n",
              " {'Ticker URL': 'https://www.finance.yahoo.com/quote/BNB-USD?p=BNB-USD',\n",
              "  'Ticker name ': 'BinanceCoin USD',\n",
              "  'Ticker price ': '418.49',\n",
              "  'Ticker symbol ': 'BNB-USD'}]"
            ]
          },
          "metadata": {},
          "execution_count": 98
        }
      ]
    },
    {
      "cell_type": "code",
      "metadata": {
        "colab": {
          "base_uri": "https://localhost:8080/"
        },
        "id": "XQyWATAwXzWI",
        "outputId": "56c124ec-d86d-498c-d9ca-c6f10ea6edba"
      },
      "source": [
        "(crypto_test_tickers[0])"
      ],
      "execution_count": 99,
      "outputs": [
        {
          "output_type": "execute_result",
          "data": {
            "text/plain": [
              "{'Ticker URL': 'https://www.finance.yahoo.com/quote/BTC-USD?p=BTC-USD',\n",
              " 'Ticker name ': 'Bitcoin USD',\n",
              " 'Ticker price ': '48650.23',\n",
              " 'Ticker symbol ': 'BTC-USD'}"
            ]
          },
          "metadata": {},
          "execution_count": 99
        }
      ]
    },
    {
      "cell_type": "markdown",
      "metadata": {
        "id": "cumY8BuiXzWJ"
      },
      "source": [
        "### <font color=brown>Function No. 4: write_csv\n",
        "\n",
        "* Once all the tickers are parsed, the information needs to be saved in a csv file for usability.\n",
        "***\n",
        "* The function 'write_csv' is defined, which takes inputs as items and path. \n",
        "***\n",
        "* Items corresponds to the dictionary of key-value pairs that contains information about each ticker row. \n",
        "***\n",
        "* Path corresponds to the filename that the dictionary is being saved to. \n",
        "***\n",
        "* The output generated is a file, which was passed as path to the write_csv function."
      ]
    },
    {
      "cell_type": "code",
      "metadata": {
        "code_folding": [],
        "id": "cb32MK7rXzWJ"
      },
      "source": [
        "def write_csv(items, path):\n",
        "    # with the file opened in write mode, if there are no items in the dictionary, nothing is returned. \n",
        "    with open(path, 'w') as f:\n",
        "        if len(items) == 0:\n",
        "            return\n",
        "        \n",
        "        # Write the headers in the first line\n",
        "        headers = list(items[0].keys())\n",
        "        f.write(','.join(headers) + '\\n')\n",
        "        \n",
        "        # Write one item per line\n",
        "        for item in items:\n",
        "            values = []\n",
        "            for header in headers:\n",
        "                values.append(str(item.get(header, \"\")))\n",
        "            f.write(','.join(values) + \"\\n\")"
      ],
      "execution_count": 100,
      "outputs": []
    },
    {
      "cell_type": "code",
      "metadata": {
        "id": "rfj3MtEMXzWK"
      },
      "source": [
        "# write a test csv file: trending_stocks_test.csv\n",
        "trending_stocks_page = get_market_page('trending-tickers')\n",
        "trending_tickers = get_top_tickers(trending_stocks_page)\n",
        "trending_tickers[:5]\n",
        "write_csv(trending_tickers, 'trending_stocks_test.csv')"
      ],
      "execution_count": 101,
      "outputs": []
    },
    {
      "cell_type": "markdown",
      "metadata": {
        "id": "1nmFYBPLXzWK"
      },
      "source": [
        "### <font color=brown>Function No. 5: scrape_market_tickers\n",
        "\n",
        "* The function - scrape_market_tickers is written to take each market category as string input and give the outputs - filename.csv and a dcitionary of the key-value pairs for each ticker.\n",
        "\n",
        "***\n",
        "* If the path for the file to be output is not provided, it takes the market name and appends '.csv'. \n",
        "***\n",
        "* get_market_page function as seen in Function No. 1 takes the market name as string and returns the bueatifulsoup document for that specific market. The resuls is assigned to the local variable - market_page_doc\n",
        "***\n",
        "* The local variable market_tickers is assigned to the output generated by passing the market_page_doc to the get_top_tickers function."
      ]
    },
    {
      "cell_type": "code",
      "metadata": {
        "id": "Bl252yYPXzWL"
      },
      "source": [
        "def scrape_market_tickers(market, path=None):\n",
        "    if path is None:\n",
        "        path = market+'csv'\n",
        "    market_page_doc = get_market_page(market)\n",
        "    market_tickers = get_top_tickers(market_page_doc)\n",
        "    write_csv(market_tickers, path)\n",
        "    return path"
      ],
      "execution_count": 102,
      "outputs": []
    },
    {
      "cell_type": "markdown",
      "metadata": {
        "id": "0blvNU5uXzWL"
      },
      "source": [
        "### <font color=green>Putting all the above functions together:"
      ]
    },
    {
      "cell_type": "code",
      "metadata": {
        "code_folding": [
          36
        ],
        "id": "3FPvr3UIXzWL"
      },
      "source": [
        "#Let's attempt to scrape all these market categories mentioned in the next line:\n",
        "\n",
        "markets = ['cryptocurrencies', 'trending-tickers','most-active', 'gainers', 'losers', 'etfs', 'world-indices', 'mutualfunds' ]\n",
        "\n",
        "import requests\n",
        "from bs4 import BeautifulSoup\n",
        "base_url = 'https://www.finance.yahoo.com'\n",
        "\n",
        "def scrape_market_tickers(market, path=None):\n",
        "    if path is None:\n",
        "        path = market+'.csv'\n",
        "    market_page_doc = get_market_page(market)\n",
        "    market_tickers = get_top_tickers(market_page_doc)\n",
        "    write_csv(market_tickers, path)\n",
        "    return path\n",
        "\n",
        "def get_market_page(market):\n",
        "    market_tickers_url = 'https://www.finance.yahoo.com/'+market\n",
        "    response = requests.get(market_tickers_url)\n",
        "    if response.status_code != 200:\n",
        "        print('Status code: ', response.status_code)\n",
        "        raise Exception('Failed to fetch web page '+ market_tickers_url)\n",
        "    doc = BeautifulSoup(response.text)\n",
        "    return doc\n",
        "\n",
        "def get_top_tickers(doc):\n",
        "    ticker_tags = doc.find_all('tr', class_=\"simpTblRow\")\n",
        "    market_tickers = [parse_ticker(tag) for tag in ticker_tags]\n",
        "    return market_tickers\n",
        "\n",
        "def parse_ticker(ticker_tag):\n",
        "    td_tags = ticker_tag.find_all('td')\n",
        "    ticker_name = td_tags[1].text.replace(',','')\n",
        "    ticker_symbol = td_tags[0].text\n",
        "    ticker_price = td_tags[2].text.replace(',','')\n",
        "    a_tags = ticker_tag.find_all('a')\n",
        "    ticker_path = a_tags[0]['href']\n",
        "    ticker_url = base_url + ticker_path\n",
        "    return {\n",
        "        'Ticker name ': ticker_name,\n",
        "        'Ticker symbol ': ticker_symbol,\n",
        "        'Ticker price ': ticker_price,\n",
        "        'Ticker URL': ticker_url\n",
        "    }\n",
        "def write_csv(items, path):\n",
        "    with open(path, 'w') as f:\n",
        "        if len(items) == 0:\n",
        "            return\n",
        "        \n",
        "        # Write the headers in the first line\n",
        "        headers = list(items[0].keys())\n",
        "        f.write(','.join(headers) + '\\n')\n",
        "        \n",
        "        # Write one item per line\n",
        "        for item in items:\n",
        "            values = []\n",
        "            for header in headers:\n",
        "                values.append(str(item.get(header, \"\")))\n",
        "            f.write(','.join(values) + \"\\n\")\n",
        "\n",
        "for market in markets:\n",
        "    scrape_market_tickers(market, path=None)"
      ],
      "execution_count": 103,
      "outputs": []
    },
    {
      "cell_type": "markdown",
      "metadata": {
        "id": "Gmw5sXeKXzWM"
      },
      "source": [
        "### <font color=green>The Output\n",
        "Results can be checked by checking the files in the library:\n",
        "File > Open > Check all the files and their contents\n",
        "\n",
        "    \n",
        "The file list looks like: \n",
        "<img src=\"https://i.imgur.com/UcOWmWR.jpeg\" style=\"width: 400px;\" align=\"center\" />\n",
        "    \n",
        "***\n",
        "When the cryptocurrencies.csv file is opened and inspected, this is what the file contents look like: \n",
        "    (Note: the contents of output files change as the tickers are updated on the Yahoo Finance website) \n",
        "<img src=\"https://i.imgur.com/pZt4K9i.jpeg\" style=\"width: 900px;\" align=\"center\" />\n"
      ]
    },
    {
      "cell_type": "markdown",
      "metadata": {
        "id": "3q4DwnMgXzWN"
      },
      "source": [
        "### <font color=green> Merging all the scraped data into a single file"
      ]
    },
    {
      "cell_type": "code",
      "metadata": {
        "colab": {
          "base_uri": "https://localhost:8080/",
          "height": 417
        },
        "id": "eDiiJPJMXzWO",
        "outputId": "f7b88d1f-5fa7-4155-87dd-db72dd347a7d"
      },
      "source": [
        "import pandas as pd\n",
        "import os, glob\n",
        "path = \"\"\n",
        "my_files = glob.glob(os.path.join(path, \"*.csv\"))\n",
        "df_from_each_file = (pd.read_csv(f, sep=',') for f in my_files)\n",
        "df_merged   = pd.concat(df_from_each_file, ignore_index=True)\n",
        "df_merged.to_csv( \"merged.csv\", index=False)\n",
        "\n",
        "merged_df = pd.read_csv('merged.csv')\n",
        "merged_df"
      ],
      "execution_count": 104,
      "outputs": [
        {
          "output_type": "execute_result",
          "data": {
            "text/html": [
              "<div>\n",
              "<style scoped>\n",
              "    .dataframe tbody tr th:only-of-type {\n",
              "        vertical-align: middle;\n",
              "    }\n",
              "\n",
              "    .dataframe tbody tr th {\n",
              "        vertical-align: top;\n",
              "    }\n",
              "\n",
              "    .dataframe thead th {\n",
              "        text-align: right;\n",
              "    }\n",
              "</style>\n",
              "<table border=\"1\" class=\"dataframe\">\n",
              "  <thead>\n",
              "    <tr style=\"text-align: right;\">\n",
              "      <th></th>\n",
              "      <th>Ticker name</th>\n",
              "      <th>Ticker symbol</th>\n",
              "      <th>Ticker price</th>\n",
              "      <th>Ticker URL</th>\n",
              "    </tr>\n",
              "  </thead>\n",
              "  <tbody>\n",
              "    <tr>\n",
              "      <th>0</th>\n",
              "      <td>Arrow DWA Tactical: International ETF</td>\n",
              "      <td>DWCR</td>\n",
              "      <td>36.63</td>\n",
              "      <td>https://www.finance.yahoo.com/quote/DWCR?p=DWCR</td>\n",
              "    </tr>\n",
              "    <tr>\n",
              "      <th>1</th>\n",
              "      <td>Invesco QQQ Trust</td>\n",
              "      <td>QQQ</td>\n",
              "      <td>373.83</td>\n",
              "      <td>https://www.finance.yahoo.com/quote/QQQ?p=QQQ</td>\n",
              "    </tr>\n",
              "    <tr>\n",
              "      <th>2</th>\n",
              "      <td>Arrow DWA Tactical: International ETF</td>\n",
              "      <td>DWCR</td>\n",
              "      <td>36.63</td>\n",
              "      <td>https://www.finance.yahoo.com/quote/DWCR?p=DWCR</td>\n",
              "    </tr>\n",
              "    <tr>\n",
              "      <th>3</th>\n",
              "      <td>Invesco QQQ Trust</td>\n",
              "      <td>QQQ</td>\n",
              "      <td>373.83</td>\n",
              "      <td>https://www.finance.yahoo.com/quote/QQQ?p=QQQ</td>\n",
              "    </tr>\n",
              "    <tr>\n",
              "      <th>4</th>\n",
              "      <td>Arrow DWA Tactical: International ETF</td>\n",
              "      <td>DWCR</td>\n",
              "      <td>36.63</td>\n",
              "      <td>https://www.finance.yahoo.com/quote/DWCR?p=DWCR</td>\n",
              "    </tr>\n",
              "    <tr>\n",
              "      <th>...</th>\n",
              "      <td>...</td>\n",
              "      <td>...</td>\n",
              "      <td>...</td>\n",
              "      <td>...</td>\n",
              "    </tr>\n",
              "    <tr>\n",
              "      <th>664</th>\n",
              "      <td>S&amp;P/CLX IPSA</td>\n",
              "      <td>^IPSA</td>\n",
              "      <td>5058.88</td>\n",
              "      <td>https://www.finance.yahoo.com/quote/%5EIPSA?p=...</td>\n",
              "    </tr>\n",
              "    <tr>\n",
              "      <th>665</th>\n",
              "      <td>MERVAL</td>\n",
              "      <td>^MERV</td>\n",
              "      <td>38390.84</td>\n",
              "      <td>https://www.finance.yahoo.com/quote/%5EMERV?p=...</td>\n",
              "    </tr>\n",
              "    <tr>\n",
              "      <th>666</th>\n",
              "      <td>TA-125</td>\n",
              "      <td>^TA125.TA</td>\n",
              "      <td>1862.53</td>\n",
              "      <td>https://www.finance.yahoo.com/quote/%5ETA125.T...</td>\n",
              "    </tr>\n",
              "    <tr>\n",
              "      <th>667</th>\n",
              "      <td>EGX 30 Price Return Index</td>\n",
              "      <td>^CASE30</td>\n",
              "      <td>10996.80</td>\n",
              "      <td>https://www.finance.yahoo.com/quote/%5ECASE30?...</td>\n",
              "    </tr>\n",
              "    <tr>\n",
              "      <th>668</th>\n",
              "      <td>Top 40 USD Net TRI Index</td>\n",
              "      <td>^JN0U.JO</td>\n",
              "      <td>4128.38</td>\n",
              "      <td>https://www.finance.yahoo.com/quote/%5EJN0U.JO...</td>\n",
              "    </tr>\n",
              "  </tbody>\n",
              "</table>\n",
              "<p>669 rows × 4 columns</p>\n",
              "</div>"
            ],
            "text/plain": [
              "                              Ticker name   ...                                         Ticker URL\n",
              "0    Arrow DWA Tactical: International ETF  ...    https://www.finance.yahoo.com/quote/DWCR?p=DWCR\n",
              "1                        Invesco QQQ Trust  ...      https://www.finance.yahoo.com/quote/QQQ?p=QQQ\n",
              "2    Arrow DWA Tactical: International ETF  ...    https://www.finance.yahoo.com/quote/DWCR?p=DWCR\n",
              "3                        Invesco QQQ Trust  ...      https://www.finance.yahoo.com/quote/QQQ?p=QQQ\n",
              "4    Arrow DWA Tactical: International ETF  ...    https://www.finance.yahoo.com/quote/DWCR?p=DWCR\n",
              "..                                     ...  ...                                                ...\n",
              "664                           S&P/CLX IPSA  ...  https://www.finance.yahoo.com/quote/%5EIPSA?p=...\n",
              "665                                 MERVAL  ...  https://www.finance.yahoo.com/quote/%5EMERV?p=...\n",
              "666                                 TA-125  ...  https://www.finance.yahoo.com/quote/%5ETA125.T...\n",
              "667              EGX 30 Price Return Index  ...  https://www.finance.yahoo.com/quote/%5ECASE30?...\n",
              "668               Top 40 USD Net TRI Index  ...  https://www.finance.yahoo.com/quote/%5EJN0U.JO...\n",
              "\n",
              "[669 rows x 4 columns]"
            ]
          },
          "metadata": {},
          "execution_count": 104
        }
      ]
    },
    {
      "cell_type": "markdown",
      "metadata": {
        "id": "Pf0yxwCXXzWO"
      },
      "source": [
        "### <font color=green>Conclusion:\n",
        "\n",
        "* The top tickers for various market categories on the Yahoo website were scraped and csvs were created with the target information included\n",
        "\n",
        "* Please note that some market categories on the website such as 'Calendars' and 'Currency converter' do not have ticker / row data and therefore cannot be scraped with the above method. \n",
        "\n",
        "* Beautifulsoup package was used in this webscraping project to scrape HTML data\n"
      ]
    },
    {
      "cell_type": "markdown",
      "metadata": {
        "id": "Lbaf6jfnXzWP"
      },
      "source": [
        "### <font color=green>References and Future Work:\n",
        "* References:\n",
        "    * Jupyter notebook formatting guide - https://medium.com/analytics-vidhya/the-jupyter-notebook-formatting-guide-873ab39f765e\n",
        "    * Merging scraped data - https://blog.softhints.com/how-to-merge-multiple-csv-files-with-python/\n",
        "* Ideas for future work:\n",
        "    * Scrape more tickers in each category by increasing the view size\n",
        "    * For cryptocurrencies, get the total volume as well to get a better understanding about its performance\n",
        "    * Yahoo finance was a static website; dynamic scraping with selenium or other tools needs to be explored\n",
        "    * Scraping with REST APIs to get json files is an easier way to scrape web data. I will need to attempt webscraping from Twitter for analyzing real-time events"
      ]
    }
  ]
}